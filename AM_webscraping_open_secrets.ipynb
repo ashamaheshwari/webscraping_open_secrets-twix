{
 "cells": [
  {
   "cell_type": "code",
   "execution_count": 1,
   "id": "df4bd87d",
   "metadata": {},
   "outputs": [],
   "source": [
    "\n",
    "import requests\n",
    "from bs4 import BeautifulSoup as BS\n",
    "import pandas as pd"
   ]
  },
  {
   "cell_type": "code",
   "execution_count": 2,
   "id": "79e10ae7",
   "metadata": {},
   "outputs": [],
   "source": [
    "URL = 'https://www.opensecrets.org/races/candidates?cycle=2020&id=TN07&spec=N'\n",
    "\n",
    "response = requests.get(URL)"
   ]
  },
  {
   "cell_type": "code",
   "execution_count": 3,
   "id": "c7354a50",
   "metadata": {},
   "outputs": [
    {
     "data": {
      "text/plain": [
       "requests.models.Response"
      ]
     },
     "execution_count": 3,
     "metadata": {},
     "output_type": "execute_result"
    }
   ],
   "source": [
    "type(response)"
   ]
  },
  {
   "cell_type": "code",
   "execution_count": 4,
   "id": "0da7750d",
   "metadata": {},
   "outputs": [],
   "source": [
    "soup = BS(response.text)"
   ]
  },
  {
   "cell_type": "code",
   "execution_count": 5,
   "id": "a646066c",
   "metadata": {},
   "outputs": [
    {
     "data": {
      "text/plain": [
       "[<div class=\"Members--bio u-richtext\">\n",
       " <h2><strong>\n",
       " <a href=\"/members-of-congress/mark-green/summary?cid=N00041873\">Mark Green (R) • <i>Incumbent</i></a>\n",
       "  • <span class=\"winner\"><i>Winner</i></span> <br/>\n",
       " <span class=\"Members--vote-pct\">(69.9% of vote)</span>\n",
       " </strong></h2>\n",
       " </div>,\n",
       " <div class=\"Members--bio u-richtext\">\n",
       " <h2><strong>\n",
       " \t\t\t\t\t\t\t\t\t\tKiran Sreepada (D)\n",
       " \t\t\t\t\t\t\t\t\t\t<br/>\n",
       " <span class=\"Members--vote-pct\">(27.3% of vote)</span>\n",
       " </strong></h2>\n",
       " </div>,\n",
       " <div class=\"Members--bio u-richtext\">\n",
       " <h2><strong>\n",
       " \t\t\t\t\t\t\t\t\t\tRonald Brown (I)\n",
       " \t\t\t\t\t\t\t\t\t\t<br/>\n",
       " <span class=\"Members--vote-pct\">(2.2% of vote)</span>\n",
       " </strong></h2>\n",
       " </div>,\n",
       " <div class=\"Members--bio u-richtext\">\n",
       " <h2><strong>\n",
       " \t\t\t\t\t\t\t\t\t\tScott Vieira Jr (I)\n",
       " \t\t\t\t\t\t\t\t\t\t<br/>\n",
       " <span class=\"Members--vote-pct\">(0.6% of vote)</span>\n",
       " </strong></h2>\n",
       " </div>]"
      ]
     },
     "execution_count": 5,
     "metadata": {},
     "output_type": "execute_result"
    }
   ],
   "source": [
    "soup.find_all(\"div\", class_= \"Members--bio u-richtext\")"
   ]
  },
  {
   "cell_type": "code",
   "execution_count": 6,
   "id": "af1355f9",
   "metadata": {},
   "outputs": [
    {
     "data": {
      "text/plain": [
       "'\\nMark Green (R) • Incumbent\\n • Winner \\n(69.9% of vote)\\n'"
      ]
     },
     "execution_count": 6,
     "metadata": {},
     "output_type": "execute_result"
    }
   ],
   "source": [
    "member= []\n",
    "member= soup.find_all(\"div\", class_= \"Members--bio u-richtext\")[0].find('strong').text\n",
    "member"
   ]
  },
  {
   "cell_type": "code",
   "execution_count": null,
   "id": "e0a5c4a8",
   "metadata": {},
   "outputs": [],
   "source": []
  },
  {
   "cell_type": "code",
   "execution_count": 7,
   "id": "80fb80b6",
   "metadata": {},
   "outputs": [
    {
     "ename": "TypeError",
     "evalue": "extract() takes from 1 to 2 positional arguments but 3 were given",
     "output_type": "error",
     "traceback": [
      "\u001b[0;31m---------------------------------------------------------------------------\u001b[0m",
      "\u001b[0;31mTypeError\u001b[0m                                 Traceback (most recent call last)",
      "Input \u001b[0;32mIn [7]\u001b[0m, in \u001b[0;36m<cell line: 1>\u001b[0;34m()\u001b[0m\n\u001b[0;32m----> 1\u001b[0m \u001b[43msoup\u001b[49m\u001b[38;5;241;43m.\u001b[39;49m\u001b[43mfind_all\u001b[49m\u001b[43m(\u001b[49m\u001b[38;5;124;43m\"\u001b[39;49m\u001b[38;5;124;43mdiv\u001b[39;49m\u001b[38;5;124;43m\"\u001b[39;49m\u001b[43m,\u001b[49m\u001b[43m \u001b[49m\u001b[43mclass_\u001b[49m\u001b[38;5;241;43m=\u001b[39;49m\u001b[43m \u001b[49m\u001b[38;5;124;43m\"\u001b[39;49m\u001b[38;5;124;43mMembers--bio u-richtext\u001b[39;49m\u001b[38;5;124;43m\"\u001b[39;49m\u001b[43m)\u001b[49m\u001b[43m[\u001b[49m\u001b[38;5;241;43m0\u001b[39;49m\u001b[43m]\u001b[49m\u001b[38;5;241;43m.\u001b[39;49m\u001b[43mfind\u001b[49m\u001b[43m(\u001b[49m\u001b[38;5;124;43m'\u001b[39;49m\u001b[38;5;124;43mstrong\u001b[39;49m\u001b[38;5;124;43m'\u001b[39;49m\u001b[43m)\u001b[49m\u001b[38;5;241;43m.\u001b[39;49m\u001b[43mextract\u001b[49m\u001b[43m(\u001b[49m\u001b[38;5;124;43mr\u001b[39;49m\u001b[38;5;124;43m'\u001b[39;49m\u001b[38;5;124;43m\\\u001b[39;49m\u001b[38;5;124;43mw+[a-zA-Z]\u001b[39;49m\u001b[38;5;124;43m\\\u001b[39;49m\u001b[38;5;124;43ms\u001b[39;49m\u001b[38;5;124;43m\\\u001b[39;49m\u001b[38;5;124;43mw+[a-zA-Z]\u001b[39;49m\u001b[38;5;124;43m\\\u001b[39;49m\u001b[38;5;124;43ms\u001b[39;49m\u001b[38;5;124;43m\\\u001b[39;49m\u001b[38;5;124;43mw\u001b[39;49m\u001b[38;5;132;43;01m{2}\u001b[39;49;00m\u001b[38;5;124;43m'\u001b[39;49m\u001b[43m,\u001b[49m\u001b[43mmember\u001b[49m\u001b[43m)\u001b[49m\n",
      "\u001b[0;31mTypeError\u001b[0m: extract() takes from 1 to 2 positional arguments but 3 were given"
     ]
    }
   ],
   "source": [
    "soup.find_all(\"div\", class_= \"Members--bio u-richtext\")[0].find('strong').extract(r'\\w+[a-zA-Z]\\s\\w+[a-zA-Z]\\s\\w{2}',member)"
   ]
  },
  {
   "cell_type": "code",
   "execution_count": null,
   "id": "6d149d69",
   "metadata": {},
   "outputs": [],
   "source": [
    "member= soup.find_all(\"div\", class_= \"Members--bio u-richtext\")[0].find('a').get('id')"
   ]
  },
  {
   "cell_type": "code",
   "execution_count": null,
   "id": "952fc7fe",
   "metadata": {},
   "outputs": [],
   "source": []
  }
 ],
 "metadata": {
  "kernelspec": {
   "display_name": "Python 3 (ipykernel)",
   "language": "python",
   "name": "python3"
  },
  "language_info": {
   "codemirror_mode": {
    "name": "ipython",
    "version": 3
   },
   "file_extension": ".py",
   "mimetype": "text/x-python",
   "name": "python",
   "nbconvert_exporter": "python",
   "pygments_lexer": "ipython3",
   "version": "3.9.12"
  }
 },
 "nbformat": 4,
 "nbformat_minor": 5
}
