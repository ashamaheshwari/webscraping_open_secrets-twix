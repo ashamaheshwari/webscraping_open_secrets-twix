{
 "cells": [
  {
   "cell_type": "code",
   "execution_count": 413,
   "id": "d9e0ab85",
   "metadata": {},
   "outputs": [],
   "source": [
    "import requests\n",
    "import numpy as np\n",
    "from bs4 import BeautifulSoup as BS\n",
    "import pandas as pd\n",
    "import re"
   ]
  },
  {
   "cell_type": "code",
   "execution_count": 550,
   "id": "d0609d60",
   "metadata": {},
   "outputs": [],
   "source": [
    "#URL = 'https://www.opensecrets.org/races/candidates?cycle=2020&id=TN07&spec=N.'\n",
    "#URL = \"https://www.opensecrets.org/races/candidates?cycle=2020&id=TN01&spec=N\"\n",
    "URL = \"https://www.opensecrets.org/races/candidates?cycle=2020&id=TN02&spec=N\"\n",
    "#URL = \"https://www.opensecrets.org/races/candidates?cycle=2020&id=TN08&spec=N\"\n",
    "page = requests.get(URL)\n",
    "soup = BS(page.content, \"html.parser\")\n",
    "#print(soup.prettify())\n",
    "\n",
    "#replace tab, newline\n",
    "def cleanUpString(param): \n",
    "    retValue = \"\"\n",
    "    retValue = (param.replace('\\t','')\n",
    "                .replace('\\n','')\n",
    "                .replace('(','') \n",
    "                .replace(')','') \n",
    "                .strip()\n",
    "               )\n",
    "    #print (\"Split\")\n",
    "    return(retValue)"
   ]
  },
  {
   "cell_type": "code",
   "execution_count": 449,
   "id": "861b2b5c",
   "metadata": {},
   "outputs": [],
   "source": [
    "# Declare the States\n",
    "states = []\n",
    "\n",
    "# Load Districts\n",
    "districts = []\n",
    "districts.append(\"https://www.opensecrets.org/races/candidates?cycle=2020&id=TN07&spec=N\")\n"
   ]
  },
  {
   "cell_type": "code",
   "execution_count": 416,
   "id": "3ba65138",
   "metadata": {
    "scrolled": true
   },
   "outputs": [
    {
     "name": "stdout",
     "output_type": "stream",
     "text": [
      "0 https://www.opensecrets.org/races/candidates?cycle=2020&id=TN07&spec=N\n"
     ]
    }
   ],
   "source": [
    "for idx, x in enumerate(districts):\n",
    "    print(idx, x)"
   ]
  },
  {
   "cell_type": "code",
   "execution_count": 418,
   "id": "23832733",
   "metadata": {
    "scrolled": true
   },
   "outputs": [
    {
     "name": "stdout",
     "output_type": "stream",
     "text": [
      "0 /races/summary?cycle=2020&id=TNS2&spec=N\n",
      "1 /races/summary?cycle=2020&id=TN01&spec=N\n",
      "2 /races/summary?cycle=2020&id=TN02&spec=N\n",
      "3 /races/summary?cycle=2020&id=TN03&spec=N\n",
      "4 /races/summary?cycle=2020&id=TN04&spec=N\n",
      "5 /races/summary?cycle=2020&id=TN05&spec=N\n",
      "6 /races/summary?cycle=2020&id=TN06&spec=N\n",
      "7 /races/summary?cycle=2020&id=TN07&spec=N\n",
      "8 /races/summary?cycle=2020&id=TN08&spec=N\n",
      "9 /races/summary?cycle=2020&id=TN09&spec=N\n"
     ]
    }
   ],
   "source": [
    "# find all districts page links in a state\n",
    "#soup.find_all(\"a\", class_=\"SubNav-link\")[0][\"href\"]\n",
    "for idx, x in enumerate(soup.find_all(\"a\", class_=\"SubNav-link\")):\n",
    "    print(idx, x[\"href\"])\n",
    "\n",
    "\n"
   ]
  },
  {
   "cell_type": "code",
   "execution_count": 428,
   "id": "5a00342f",
   "metadata": {
    "scrolled": false
   },
   "outputs": [],
   "source": [
    "#soup.find_all(\"div\", class_=\"Members--list-item\")\n",
    "#soup.find('div', attrs={'class' : 'Members--list-item'})"
   ]
  },
  {
   "cell_type": "code",
   "execution_count": 561,
   "id": "7f3d2a6a",
   "metadata": {
    "scrolled": true
   },
   "outputs": [
    {
     "name": "stderr",
     "output_type": "stream",
     "text": [
      "C:\\Users\\kalea\\AppData\\Local\\Temp\\ipykernel_6084\\1767727147.py:55: FutureWarning: The frame.append method is deprecated and will be removed from pandas in a future version. Use pandas.concat instead.\n",
      "  df_candidate = df_candidate.append({'Name' : candidateName, 'Party' : candidateParty, 'State' : state,\n",
      "C:\\Users\\kalea\\AppData\\Local\\Temp\\ipykernel_6084\\1767727147.py:55: FutureWarning: The frame.append method is deprecated and will be removed from pandas in a future version. Use pandas.concat instead.\n",
      "  df_candidate = df_candidate.append({'Name' : candidateName, 'Party' : candidateParty, 'State' : state,\n"
     ]
    },
    {
     "data": {
      "text/html": [
       "<div>\n",
       "<style scoped>\n",
       "    .dataframe tbody tr th:only-of-type {\n",
       "        vertical-align: middle;\n",
       "    }\n",
       "\n",
       "    .dataframe tbody tr th {\n",
       "        vertical-align: top;\n",
       "    }\n",
       "\n",
       "    .dataframe thead th {\n",
       "        text-align: right;\n",
       "    }\n",
       "</style>\n",
       "<table border=\"1\" class=\"dataframe\">\n",
       "  <thead>\n",
       "    <tr style=\"text-align: right;\">\n",
       "      <th></th>\n",
       "      <th>Name</th>\n",
       "      <th>Party</th>\n",
       "      <th>State</th>\n",
       "      <th>DistrictNumber</th>\n",
       "      <th>Incumbment</th>\n",
       "      <th>WonRace</th>\n",
       "      <th>votePercentage</th>\n",
       "      <th>AmountRaised</th>\n",
       "      <th>AmountSpent</th>\n",
       "    </tr>\n",
       "  </thead>\n",
       "  <tbody>\n",
       "    <tr>\n",
       "      <th>0</th>\n",
       "      <td>Tim Burchett</td>\n",
       "      <td>R</td>\n",
       "      <td>Tennessee</td>\n",
       "      <td>02</td>\n",
       "      <td>Incumbent</td>\n",
       "      <td>Winner</td>\n",
       "      <td>67.7</td>\n",
       "      <td>$1,336,276</td>\n",
       "      <td>$878,488</td>\n",
       "    </tr>\n",
       "    <tr>\n",
       "      <th>1</th>\n",
       "      <td>Renee Hoyos</td>\n",
       "      <td>D</td>\n",
       "      <td>Tennessee</td>\n",
       "      <td>02</td>\n",
       "      <td></td>\n",
       "      <td></td>\n",
       "      <td>31.0</td>\n",
       "      <td>$812,784</td>\n",
       "      <td>$816,793</td>\n",
       "    </tr>\n",
       "  </tbody>\n",
       "</table>\n",
       "</div>"
      ],
      "text/plain": [
       "           Name Party      State DistrictNumber Incumbment WonRace  \\\n",
       "0  Tim Burchett     R  Tennessee             02  Incumbent  Winner   \n",
       "1   Renee Hoyos     D  Tennessee             02                      \n",
       "\n",
       "  votePercentage AmountRaised AmountSpent  \n",
       "0           67.7   $1,336,276    $878,488  \n",
       "1           31.0     $812,784    $816,793  "
      ]
     },
     "execution_count": 561,
     "metadata": {},
     "output_type": "execute_result"
    }
   ],
   "source": [
    "#Create Empty Dataframe for above columns\n",
    "df_candidate = pd.DataFrame(columns = ['Name', \n",
    "                             'Party', \n",
    "                             'State', \n",
    "                             \"DistrictNumber\",\n",
    "                             \"Incumbment\",\n",
    "                             \"WonRace\",\n",
    "                             \"votePercentage\",\n",
    "                             \"AmountRaised\",\n",
    "                             \"AmountSpent\"\n",
    "                            ])\n",
    "#print( df_candidate)\n",
    "#Declare and initialize variable with defaults\n",
    "\n",
    "candidateName=\"\"\n",
    "candidateParty=\"\"\n",
    "state = \"\"\n",
    "districtNumber =\"\"\n",
    "incumbment = \"\"\n",
    "wonRace = \"\"\n",
    "votePercentage = np.NaN\n",
    "amountRaised = np.NaN\n",
    "amountSpent = np.NaN\n",
    "\n",
    "candidateString = \"\"\n",
    "title = soup.find_all('title', limit=1)[0].text.split(\" \")\n",
    "state = title[0]\n",
    "districtNumber = title[2]\n",
    "#print(title)\n",
    "\n",
    "for idx, stateMembers in enumerate(soup.find_all(\"div\", class_=\"Members--list-item\")):        \n",
    "    #votePercentage = stateMembers.find_all(\"span\", class_=\"Members--vote-pct\")[0].text.replace(\"(\",\"\").replace(\")\",\"\")\n",
    "    bio = stateMembers.find('strong').text\n",
    "    #print (bio)      \n",
    "    \n",
    "    #candidateName = bio.split(\"(\")[0]\n",
    "    candidateNameSplit = bio.split(\"(\", 1) # Max 1 occurence\n",
    "    candidateName = cleanUpString(str(candidateNameSplit[0])) if len( candidateNameSplit) > 1 else \"\"\n",
    "    \n",
    "    votePercentageSplit = bio.rsplit(\"(\",1)    \n",
    "    votePercentage = cleanUpString(str(votePercentageSplit[1])) if len( votePercentageSplit) > 1 else \"\"\n",
    "    votePercentage= votePercentage.split(\"%\")[0]\n",
    "\n",
    "    incumbment = str(\"Incumbent\") if bio.find(\"Incumbent\") > -1 else \"\"\n",
    "    wonRace = str(\"Winner\") if bio.find(\"Winner\") > -1 else \"\"        \n",
    "\n",
    "    if(re.findall(\"\\(\\w\\)\", bio)) :        \n",
    "        candidateParty = cleanUpString(re.findall(\"\\(\\w\\)\", bio)[0])\n",
    "    else :\n",
    "        print(\"No Match\")\n",
    "        \n",
    "    amountRaised = stateMembers.find_all(\"td\", class_=\"Members--number\")[0].text\n",
    "    amountSpent = stateMembers.find_all(\"td\", class_=\"Members--number\")[1].text    \n",
    "    # append rows to an empty DataFrame\n",
    "    df_candidate = df_candidate.append({'Name' : candidateName, 'Party' : candidateParty, 'State' : state,\n",
    "                   'DistrictNumber' : districtNumber, 'Incumbment' : incumbment, 'WonRace' :wonRace,\n",
    "                   'votePercentage' : votePercentage, 'AmountRaised' :amountRaised, 'AmountSpent' : amountSpent},\n",
    "                ignore_index = True)\n",
    "    \n",
    "df_candidate\n",
    "  \n",
    "\n",
    "    \n"
   ]
  },
  {
   "cell_type": "code",
   "execution_count": null,
   "id": "f530b262",
   "metadata": {},
   "outputs": [],
   "source": []
  }
 ],
 "metadata": {
  "kernelspec": {
   "display_name": "Python 3 (ipykernel)",
   "language": "python",
   "name": "python3"
  },
  "language_info": {
   "codemirror_mode": {
    "name": "ipython",
    "version": 3
   },
   "file_extension": ".py",
   "mimetype": "text/x-python",
   "name": "python",
   "nbconvert_exporter": "python",
   "pygments_lexer": "ipython3",
   "version": "3.9.12"
  }
 },
 "nbformat": 4,
 "nbformat_minor": 5
}
